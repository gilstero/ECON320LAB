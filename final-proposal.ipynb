{
 "cells": [
  {
   "cell_type": "markdown",
   "id": "d3724e28-00ab-4419-817d-8e06a86378b6",
   "metadata": {},
   "source": [
    "\n",
    "<div style=\"\n",
    "    background-color: #f8f9fa; \n",
    "    color: black; \n",
    "    padding: 30px; \n",
    "    text-align: center; \n",
    "    border-radius: 10px; \n",
    "    box-shadow: 0px 4px 8px rgba(0, 0, 0, 0.1);\n",
    "\">\n",
    "    <h1 style=\"color: black; font-size: 2em; font-weight: bold; margin-bottom: 10px;\">\n",
    "        Final Project Econ 320: How Do Health Factors Influence Wealth of Individuals?\n",
    "    </h1>\n",
    "    <h2 style=\"color: black; font-size: 1.5em;\">\n",
    "        Jasmine Liu, Bessy Wang, Dylan Liu, Olin Glister\n",
    "    </h2>\n",
    "</div>\n"
   ]
  },
  {
   "cell_type": "markdown",
   "id": "461c355f",
   "metadata": {},
   "source": [
    "<div style=\"\n",
    "    background-color: #f8f9fa; \n",
    "    color: black; \n",
    "    padding: 30px; \n",
    "    text-align: center; \n",
    "    border-radius: 10px; \n",
    "    box-shadow: 0px 4px 8px rgba(0, 0, 0, 0.1);\n",
    "\">\n",
    "    <h1 style=\"color: black; font-size: 2em; font-weight: bold; margin-bottom: 10px;\">\n",
    "        Introduction and Motivation\n",
    "    </h1>\n",
    "</div>"
   ]
  },
  {
   "cell_type": "markdown",
   "id": "7db933af",
   "metadata": {},
   "source": [
    "The primary question that our group seeks to answer is: How do health factors influence household wealth? Specifically, we will explore the effects of food stamp receipt, health insurance coverage status, education, employment status, and the self-care ability on the economic stability and wealth accumulation of households. We believe that there exists a positive relationship between the two. Health factors, such as self-care ability and work absences, can have profound implications for individuals' economic decisions and thus their financial wealth status.\n",
    "### Context:\n",
    "The context of our study is household economics. We particularly focus on the US region because we will be using data from the IPUMS USA. The population that our study focuses on thus includes individuals receiving public health benefits (e.g. food stamps or Supplemental Nutrition Assistance Program, SNAP) and those with different level of any health insurance coverage. Additionally, we examine how factors like self-care ability affect economic situation on individuals and their household's wealth in 2023.\n",
    "### Relevance:\n",
    "Understanding the relationship between health and wealth on the household level is crucial for many areas. Some instances would be the policymakers, health professionals, and economists. The findings can provide valuable insights into how public policies such as the food assistance programs and insurance programs affect the economic well-being of individuals. By having a better understanding of these dynamics, policies can be made more effective, and thus not only elevate the health outcomes of these individuals but also their economic stability.\n",
    "\n",
    "This research is highly relevant to policy makers because they are responsible for designing the social safety nets such as food stamp programs and SNAP that we have as one of our variables in order to alleviate poverty and inequalities. It’s relevant to the economists and public health professionals if they are interested in the intersection of wealth status and health and how health factors can be a determinant of financial status. Finally, it is important for the individuals and households because they are directly influenced by these programs and will be the beneficiaries from a better understanding of the consequences of their health status on their economic status.\n",
    "### Supporting Evidence:\n",
    "Some literature studies that we have for literature review have examined the relationship between health and wealth. Some studies suggest that poor health conditions can significantly reduce an individual’s ability to work, causing lower income and wealth in the long run. Conversely, food assistance programs and health insurances have been found to improve health status, and even potentially improving wealth accumulations. Below are several studies and sources that provide a foundation for this research:\n",
    "## Literature Review or Related Literature\n",
    "### Source 1: Anastasiadis, S. (2010)\n",
    "Citation: Anastasiadis, S. (2010). Health and wealth (No. 10/05). New Zealand Treasury Working Paper.\n",
    "\n",
    "Summary: This paper analyses the link between net wealth and health without establishing a causal or directional relationship. The result of the study suggests that lower wealth is related to worse health conditions. In other words, wellbeing is positively associated with wealth. This study used self-rating to analyse and self-rated health data show that individuals who rate themselves with lower health status are more likely to have lower wealth.\n",
    "This study is relevant to our research because it provides important support and evidence for our hypothesis that there exists a positive relationship between health and wealth, such that better health factors that we will be examining do lead to high wealth for households.\n",
    "\n",
    "### Source 2: Tiainen, M. (2018)\n",
    "Citation: Tiainen, M. (2018). The relationship between wealth and health(Doctoral dissertation, Master’s Thesis University of Helsinki Faculty of Social Science Economics, retrieved from https://helda. helsinki. fi/bitstre am/handle/10138/235945/Tiai nen_Economics. pdf). \n",
    "\n",
    "Summary:This paper looks into the positive relationship between health and wealth, how better health leads to better wealth. Some theories involved are the Grossman model from 1972 and the modified version by Jacobson in 2000. The model mentions investible health and changes in comparing families with and without children, suggesting a positive correlation between health and wealth. This paper also mentioned the education, socioeconomic status factors and how they affect health and wealth differently. It also specifically mentioned that in units of households each member’s health and many other factors at birth or childhood have an effect on potential habitual behavior formations that affect the health and wealth.\n",
    "This research is relevant to our study because not only does it provide support in our assumption that there exists a positive relationship between health and wealth factors, but also it explores specific variables that provide insight for our studies.\n",
    "\n",
    "\n",
    "### Source 3: Bartfeld, J., et al. (2015)\n",
    "Citation: Bartfeld, J., Gundersen, C., Smeeding, T., & Ziliak, J. P. (Eds.). (2015). SNAP matters: how food stamps affect health and well-being. Stanford University Press.\n",
    "\n",
    "Summary: This book aims to analyze the food assistance programs such as the Food Stamp Program (FSP)/Supplemental Nutrition Assistance Program (SNAP). It also discusses how effective these programs are and what information on improved health and wealth status they offer. (Overall, the volume concludes that SNAP is highly responsive to macroeconomic pressures and is one of the most effective antipoverty programs in the safety net, but the volume also encourages policymakers, students, and researchers to continue examining this major pillar of social assistance in America.)\n",
    "This is relevant to our study because we are interested in how food stamp recipients as a health factor can affect the wealth status of households. This source provides sources that help us better understand the programs and their effectiveness towards our topic and better prepares us for our future steps.\n",
    "### Conclusion\n",
    "The studies reviewed suggest that there is a positive relationship between health and wealth, meaning that for different factors that improve health statuses can positively impact wealth."
   ]
  },
  {
   "cell_type": "markdown",
   "id": "64925a92",
   "metadata": {},
   "source": [
    "<div style=\"\n",
    "    background-color: #f8f9fa; \n",
    "    color: black; \n",
    "    padding: 30px; \n",
    "    text-align: center; \n",
    "    border-radius: 10px; \n",
    "    box-shadow: 0px 4px 8px rgba(0, 0, 0, 0.1);\n",
    "\">\n",
    "    <h1 style=\"color: black; font-size: 2em; font-weight: bold; margin-bottom: 10px;\">\n",
    "        Data and Code\n",
    "    </h1>\n",
    "</div>"
   ]
  },
  {
   "cell_type": "markdown",
   "id": "56a9f82a",
   "metadata": {},
   "source": [
    "# Data and Descriptive Statistics\n",
    "\n",
    "### Table of Variables:\n",
    "\n",
    "| **Variable Name** | **Description**                                                                                                                                                                                                                                                                                                                                           | **Type**      | **Units** | **Dependent/Independent** | **Values** |\n",
    "|-------------------|---------------------------------------------------------------------------------------------------------------------------------------------------------------------------------------------------------------------------------------------------------------------------------------------------------------------------------------------------------|---------------|-----------|---------------------------|-----------|\n",
    "| `FOODSTMP`        | Indicates whether anyone in the household received Food Stamps (now called the Supplemental Nutrition Assistance Program, or SNAP) at any time in the past 12 months.                                                                                                                                                                      | Categorical   | N/A       | Independent               | 0 = N/A, 1 = No, 2 = Yes |\n",
    "| `HCOVANY`         | Indicates whether persons had any health insurance coverage at the time of interview.                                                                                                                                                                                                                                                             | Categorical   | N/A       | Independent               | 1 = No health insurance coverage, 2 = With health insurance coverage |\n",
    "| `EDUC`            | Indicates respondents' educational attainment, as measured by the highest year of school or degree completed.                                                                                                                                                                                                                                     | Categorical   | N/A       | Independent               | 00 = N/A or no schooling, 01 = Nursery school to grade 4, 02 = Grade 5-8, 03 = Grade 9, 04 = Grade 10, 05 = Grade 11, 06 = Grade 12, 07 = 1 year of college, 08 = 2 years of college, 09 = 3 years of college, 10 = 4 years of college, 11 = 5+ years of college, 99 = Missing |\n",
    "| `EMPSTAT`         | Indicates whether the respondent was a part of the labor force -- working or seeking work -- and, if so, whether the person was currently unemployed.                                                                                                                                                                                         | Categorical   | N/A       | Independent               | 0 = N/A, 1 = Employed, 2 = Unemployed, 3 = Not in labor force, 9 = Unknown/Illegible |\n",
    "| `ABSENT`          | Indicates whether persons who did not work during the previous week had a job or business from which they were temporarily absent and, if so, whether they were absent due to a layoff or if their absence was for some other reason.                                                                                                          | Categorical   | N/A       | Independent               | 0 = N/A, 1 = No, 2 = Yes (laid off), 3 = Yes (other reason: vacation, illness, etc.), 4 = Not reported |\n",
    "| `DIFFCARE`        | Indicates whether respondents have any physical or mental health condition that has lasted at least 6 months and makes it difficult for them to take care of their own personal needs, such as bathing, dressing, or getting around inside the home. This does not include temporary health conditions, such as broken bones or pregnancies. | Categorical   | N/A       | Independent               | 0 = N/A, 1 = No, 2 = Yes |\n",
    "| `INCTOT`          | A 7-digit numeric code reporting each respondent's total pre-tax personal income or losses from all sources for the previous year.                                                                                                                                                       | Numeric       | Dollars   | Dependent                | Continuous numbers |\n"
   ]
  },
  {
   "cell_type": "code",
   "execution_count": 31,
   "id": "050ba9c8-be56-4966-ba33-c538865add2a",
   "metadata": {},
   "outputs": [
    {
     "name": "stdout",
     "output_type": "stream",
     "text": [
      "We have 3405809 observations.\n"
     ]
    },
    {
     "data": {
      "text/html": [
       "<div>\n",
       "<style scoped>\n",
       "    .dataframe tbody tr th:only-of-type {\n",
       "        vertical-align: middle;\n",
       "    }\n",
       "\n",
       "    .dataframe tbody tr th {\n",
       "        vertical-align: top;\n",
       "    }\n",
       "\n",
       "    .dataframe thead th {\n",
       "        text-align: right;\n",
       "    }\n",
       "</style>\n",
       "<table border=\"1\" class=\"dataframe\">\n",
       "  <thead>\n",
       "    <tr style=\"text-align: right;\">\n",
       "      <th></th>\n",
       "      <th>YEAR</th>\n",
       "      <th>FOODSTMP</th>\n",
       "      <th>HCOVANY</th>\n",
       "      <th>EDUC</th>\n",
       "      <th>EMPSTAT</th>\n",
       "      <th>ABSENT</th>\n",
       "      <th>INCTOT</th>\n",
       "      <th>DIFFCARE</th>\n",
       "    </tr>\n",
       "  </thead>\n",
       "  <tbody>\n",
       "    <tr>\n",
       "      <th>0</th>\n",
       "      <td>2023</td>\n",
       "      <td>1</td>\n",
       "      <td>2</td>\n",
       "      <td>6</td>\n",
       "      <td>3</td>\n",
       "      <td>4</td>\n",
       "      <td>11500</td>\n",
       "      <td>1</td>\n",
       "    </tr>\n",
       "    <tr>\n",
       "      <th>1</th>\n",
       "      <td>2023</td>\n",
       "      <td>1</td>\n",
       "      <td>1</td>\n",
       "      <td>6</td>\n",
       "      <td>3</td>\n",
       "      <td>4</td>\n",
       "      <td>0</td>\n",
       "      <td>1</td>\n",
       "    </tr>\n",
       "    <tr>\n",
       "      <th>2</th>\n",
       "      <td>2023</td>\n",
       "      <td>1</td>\n",
       "      <td>2</td>\n",
       "      <td>7</td>\n",
       "      <td>3</td>\n",
       "      <td>4</td>\n",
       "      <td>0</td>\n",
       "      <td>1</td>\n",
       "    </tr>\n",
       "    <tr>\n",
       "      <th>3</th>\n",
       "      <td>2023</td>\n",
       "      <td>1</td>\n",
       "      <td>2</td>\n",
       "      <td>2</td>\n",
       "      <td>0</td>\n",
       "      <td>0</td>\n",
       "      <td>9999999</td>\n",
       "      <td>1</td>\n",
       "    </tr>\n",
       "    <tr>\n",
       "      <th>4</th>\n",
       "      <td>2023</td>\n",
       "      <td>1</td>\n",
       "      <td>2</td>\n",
       "      <td>6</td>\n",
       "      <td>3</td>\n",
       "      <td>1</td>\n",
       "      <td>2500</td>\n",
       "      <td>1</td>\n",
       "    </tr>\n",
       "  </tbody>\n",
       "</table>\n",
       "</div>"
      ],
      "text/plain": [
       "   YEAR  FOODSTMP  HCOVANY  EDUC  EMPSTAT  ABSENT   INCTOT  DIFFCARE\n",
       "0  2023         1        2     6        3       4    11500         1\n",
       "1  2023         1        1     6        3       4        0         1\n",
       "2  2023         1        2     7        3       4        0         1\n",
       "3  2023         1        2     2        0       0  9999999         1\n",
       "4  2023         1        2     6        3       1     2500         1"
      ]
     },
     "execution_count": 31,
     "metadata": {},
     "output_type": "execute_result"
    }
   ],
   "source": [
    "import pandas as pd\n",
    "\n",
    "df = pd.read_csv(\"df_final_dataset.csv\")\n",
    "print(\"We have \" + str(df.shape[0])+ \" observations.\")\n",
    "df.head()"
   ]
  },
  {
   "cell_type": "code",
   "execution_count": 32,
   "id": "a298bbdd",
   "metadata": {},
   "outputs": [
    {
     "name": "stdout",
     "output_type": "stream",
     "text": [
      "<class 'pandas.core.frame.DataFrame'>\n",
      "RangeIndex: 3405809 entries, 0 to 3405808\n",
      "Data columns (total 8 columns):\n",
      " #   Column    Dtype\n",
      "---  ------    -----\n",
      " 0   YEAR      int64\n",
      " 1   FOODSTMP  int64\n",
      " 2   HCOVANY   int64\n",
      " 3   EDUC      int64\n",
      " 4   EMPSTAT   int64\n",
      " 5   ABSENT    int64\n",
      " 6   INCTOT    int64\n",
      " 7   DIFFCARE  int64\n",
      "dtypes: int64(8)\n",
      "memory usage: 207.9 MB\n"
     ]
    }
   ],
   "source": [
    "df.info()"
   ]
  },
  {
   "cell_type": "code",
   "execution_count": 33,
   "id": "ea2bd8b6",
   "metadata": {},
   "outputs": [
    {
     "name": "stdout",
     "output_type": "stream",
     "text": [
      "YEAR        0\n",
      "FOODSTMP    0\n",
      "HCOVANY     0\n",
      "EDUC        0\n",
      "EMPSTAT     0\n",
      "ABSENT      0\n",
      "INCTOT      0\n",
      "DIFFCARE    0\n",
      "dtype: int64\n",
      "The dataset used has 0 null entries.\n"
     ]
    }
   ],
   "source": [
    "print(f\"{df.isnull().sum()}\")\n",
    "print(f\"The dataset used has 0 null entries.\")"
   ]
  },
  {
   "cell_type": "markdown",
   "id": "82213f44",
   "metadata": {},
   "source": [
    "### Data Pre-processing:\n",
    "Based on the code description from IPUMS, we learned that there are invalid codes for each variable. Here, we did some data preprocessing to remove invalid data."
   ]
  },
  {
   "cell_type": "code",
   "execution_count": 34,
   "id": "8e42c52c",
   "metadata": {},
   "outputs": [],
   "source": [
    "invalid_values = {\n",
    "    'INCTOT': {-99995, -1, 0, 1, 9999999, 9999998},  # Net loss, none, break-even, unknown, N/A\n",
    "    'EDUC': {0, 99},  # N/A or no schooling, missing\n",
    "    'FOODSTMP': {0},  # N/A\n",
    "    'EMPSTAT': {0, 9},  # N/A, unknown\n",
    "    'ABSENT': {0, 4},  # N/A, not reported\n",
    "    'DIFFCARE': {0}  # N/A\n",
    "}\n",
    "\n",
    "# Remove invalid values for each column\n",
    "for col, invalid_set in invalid_values.items():\n",
    "    df = df[~df[col].isin(invalid_set)]"
   ]
  },
  {
   "cell_type": "markdown",
   "id": "2eca0ae2",
   "metadata": {},
   "source": [
    "### Summary Statistics"
   ]
  },
  {
   "cell_type": "code",
   "execution_count": 35,
   "id": "8814590a",
   "metadata": {},
   "outputs": [
    {
     "data": {
      "text/html": [
       "<div>\n",
       "<style scoped>\n",
       "    .dataframe tbody tr th:only-of-type {\n",
       "        vertical-align: middle;\n",
       "    }\n",
       "\n",
       "    .dataframe tbody tr th {\n",
       "        vertical-align: top;\n",
       "    }\n",
       "\n",
       "    .dataframe thead th {\n",
       "        text-align: right;\n",
       "    }\n",
       "</style>\n",
       "<table border=\"1\" class=\"dataframe\">\n",
       "  <thead>\n",
       "    <tr style=\"text-align: right;\">\n",
       "      <th></th>\n",
       "      <th>YEAR</th>\n",
       "      <th>FOODSTMP</th>\n",
       "      <th>HCOVANY</th>\n",
       "      <th>EDUC</th>\n",
       "      <th>EMPSTAT</th>\n",
       "      <th>ABSENT</th>\n",
       "      <th>INCTOT</th>\n",
       "      <th>DIFFCARE</th>\n",
       "    </tr>\n",
       "  </thead>\n",
       "  <tbody>\n",
       "    <tr>\n",
       "      <th>count</th>\n",
       "      <td>870901.0</td>\n",
       "      <td>870901.000000</td>\n",
       "      <td>870901.000000</td>\n",
       "      <td>870901.000000</td>\n",
       "      <td>870901.000000</td>\n",
       "      <td>870901.000000</td>\n",
       "      <td>8.709010e+05</td>\n",
       "      <td>870901.000000</td>\n",
       "    </tr>\n",
       "    <tr>\n",
       "      <th>mean</th>\n",
       "      <td>2023.0</td>\n",
       "      <td>1.132651</td>\n",
       "      <td>1.963808</td>\n",
       "      <td>7.387068</td>\n",
       "      <td>2.664544</td>\n",
       "      <td>1.070963</td>\n",
       "      <td>4.049711e+04</td>\n",
       "      <td>1.068134</td>\n",
       "    </tr>\n",
       "    <tr>\n",
       "      <th>std</th>\n",
       "      <td>0.0</td>\n",
       "      <td>0.339197</td>\n",
       "      <td>0.186769</td>\n",
       "      <td>2.217184</td>\n",
       "      <td>0.721521</td>\n",
       "      <td>0.369988</td>\n",
       "      <td>5.913494e+04</td>\n",
       "      <td>0.251976</td>\n",
       "    </tr>\n",
       "    <tr>\n",
       "      <th>min</th>\n",
       "      <td>2023.0</td>\n",
       "      <td>1.000000</td>\n",
       "      <td>1.000000</td>\n",
       "      <td>1.000000</td>\n",
       "      <td>1.000000</td>\n",
       "      <td>1.000000</td>\n",
       "      <td>-1.000000e+04</td>\n",
       "      <td>1.000000</td>\n",
       "    </tr>\n",
       "    <tr>\n",
       "      <th>25%</th>\n",
       "      <td>2023.0</td>\n",
       "      <td>1.000000</td>\n",
       "      <td>2.000000</td>\n",
       "      <td>6.000000</td>\n",
       "      <td>3.000000</td>\n",
       "      <td>1.000000</td>\n",
       "      <td>1.130000e+04</td>\n",
       "      <td>1.000000</td>\n",
       "    </tr>\n",
       "    <tr>\n",
       "      <th>50%</th>\n",
       "      <td>2023.0</td>\n",
       "      <td>1.000000</td>\n",
       "      <td>2.000000</td>\n",
       "      <td>7.000000</td>\n",
       "      <td>3.000000</td>\n",
       "      <td>1.000000</td>\n",
       "      <td>2.400000e+04</td>\n",
       "      <td>1.000000</td>\n",
       "    </tr>\n",
       "    <tr>\n",
       "      <th>75%</th>\n",
       "      <td>2023.0</td>\n",
       "      <td>1.000000</td>\n",
       "      <td>2.000000</td>\n",
       "      <td>10.000000</td>\n",
       "      <td>3.000000</td>\n",
       "      <td>1.000000</td>\n",
       "      <td>4.880000e+04</td>\n",
       "      <td>1.000000</td>\n",
       "    </tr>\n",
       "    <tr>\n",
       "      <th>max</th>\n",
       "      <td>2023.0</td>\n",
       "      <td>2.000000</td>\n",
       "      <td>2.000000</td>\n",
       "      <td>11.000000</td>\n",
       "      <td>3.000000</td>\n",
       "      <td>3.000000</td>\n",
       "      <td>1.558000e+06</td>\n",
       "      <td>2.000000</td>\n",
       "    </tr>\n",
       "  </tbody>\n",
       "</table>\n",
       "</div>"
      ],
      "text/plain": [
       "           YEAR       FOODSTMP        HCOVANY           EDUC        EMPSTAT  \\\n",
       "count  870901.0  870901.000000  870901.000000  870901.000000  870901.000000   \n",
       "mean     2023.0       1.132651       1.963808       7.387068       2.664544   \n",
       "std         0.0       0.339197       0.186769       2.217184       0.721521   \n",
       "min      2023.0       1.000000       1.000000       1.000000       1.000000   \n",
       "25%      2023.0       1.000000       2.000000       6.000000       3.000000   \n",
       "50%      2023.0       1.000000       2.000000       7.000000       3.000000   \n",
       "75%      2023.0       1.000000       2.000000      10.000000       3.000000   \n",
       "max      2023.0       2.000000       2.000000      11.000000       3.000000   \n",
       "\n",
       "              ABSENT        INCTOT       DIFFCARE  \n",
       "count  870901.000000  8.709010e+05  870901.000000  \n",
       "mean        1.070963  4.049711e+04       1.068134  \n",
       "std         0.369988  5.913494e+04       0.251976  \n",
       "min         1.000000 -1.000000e+04       1.000000  \n",
       "25%         1.000000  1.130000e+04       1.000000  \n",
       "50%         1.000000  2.400000e+04       1.000000  \n",
       "75%         1.000000  4.880000e+04       1.000000  \n",
       "max         3.000000  1.558000e+06       2.000000  "
      ]
     },
     "execution_count": 35,
     "metadata": {},
     "output_type": "execute_result"
    }
   ],
   "source": [
    "df.describe()"
   ]
  },
  {
   "cell_type": "markdown",
   "id": "b521751c",
   "metadata": {},
   "source": [
    "We saw that incont's min is negative. So here we found that there are negative income, which means the person didn't earn enough to cover all their expenses"
   ]
  },
  {
   "cell_type": "code",
   "execution_count": 36,
   "id": "d568e009",
   "metadata": {},
   "outputs": [
    {
     "name": "stdout",
     "output_type": "stream",
     "text": [
      "There are 1843 non-positive entires in INCTOT\n"
     ]
    }
   ],
   "source": [
    "non_positive_values = df[\"INCTOT\"][df[\"INCTOT\"] <= 0]\n",
    "non_positive_count = non_positive_values.count()\n",
    "print(f\"There are {non_positive_count} non-positive entires in INCTOT\")"
   ]
  },
  {
   "cell_type": "code",
   "execution_count": 37,
   "id": "dc926b2b",
   "metadata": {},
   "outputs": [
    {
     "name": "stdout",
     "output_type": "stream",
     "text": [
      "Column: YEAR\n",
      "Unique Values: [2023]\n",
      "--------------------------------------------------\n",
      "Column: FOODSTMP\n",
      "Unique Values: [1 2]\n",
      "--------------------------------------------------\n",
      "Column: HCOVANY\n",
      "Unique Values: [2 1]\n",
      "--------------------------------------------------\n",
      "Column: EDUC\n",
      "Unique Values: [ 6  7 10  8  3  5 11  2  4  1]\n",
      "--------------------------------------------------\n",
      "Column: EMPSTAT\n",
      "Unique Values: [3 2 1]\n",
      "--------------------------------------------------\n",
      "Column: ABSENT\n",
      "Unique Values: [1 3]\n",
      "--------------------------------------------------\n",
      "Column: INCTOT\n",
      "Unique Values: [ 2500   500 15600 ... 66630 83370 79610]\n",
      "--------------------------------------------------\n",
      "Column: DIFFCARE\n",
      "Unique Values: [1 2]\n",
      "--------------------------------------------------\n"
     ]
    }
   ],
   "source": [
    "unique_values = {col: df[col].unique() for col in df.columns}\n",
    "\n",
    "for col, values in unique_values.items():\n",
    "    print(f\"Column: {col}\")\n",
    "    print(f\"Unique Values: {values}\")\n",
    "    print(\"-\" * 50)"
   ]
  },
  {
   "cell_type": "markdown",
   "id": "eb566ecf",
   "metadata": {},
   "source": [
    "This helps us see which variable is binary, which is categorical, and which is continuous. We can also see the range of values for each variable. This will help us understand the data better and make better decisions when we analyze it."
   ]
  },
  {
   "cell_type": "markdown",
   "id": "f4286463",
   "metadata": {},
   "source": [
    "Interestingly, we see that there's no data equal to 2 for 'ABSENT', meaning there's no data for 'absent due to layoff'. 1 and 3 values means that people are 'not absent' or they are 'absent for other reasons (vacation, illness, labor dispute, etc..)'."
   ]
  },
  {
   "cell_type": "markdown",
   "id": "58cfc755",
   "metadata": {},
   "source": [
    "### Graphs:"
   ]
  },
  {
   "cell_type": "code",
   "execution_count": 38,
   "id": "8661a3ed",
   "metadata": {},
   "outputs": [
    {
     "data": {
      "text/plain": [
       "1    755375\n",
       "2    115526\n",
       "Name: FOODSTMP, dtype: int64"
      ]
     },
     "metadata": {},
     "output_type": "display_data"
    },
    {
     "data": {
      "text/plain": [
       "2    839381\n",
       "1     31520\n",
       "Name: HCOVANY, dtype: int64"
      ]
     },
     "metadata": {},
     "output_type": "display_data"
    },
    {
     "data": {
      "text/plain": [
       "6     358913\n",
       "10    148733\n",
       "7     116795\n",
       "11    104931\n",
       "8      72224\n",
       "5      21422\n",
       "2      17012\n",
       "4      16902\n",
       "3      10144\n",
       "1       3825\n",
       "Name: EDUC, dtype: int64"
      ]
     },
     "metadata": {},
     "output_type": "display_data"
    },
    {
     "data": {
      "text/plain": [
       "3    708371\n",
       "1    129619\n",
       "2     32911\n",
       "Name: EMPSTAT, dtype: int64"
      ]
     },
     "metadata": {},
     "output_type": "display_data"
    },
    {
     "data": {
      "text/plain": [
       "1    840000\n",
       "3     30901\n",
       "Name: ABSENT, dtype: int64"
      ]
     },
     "metadata": {},
     "output_type": "display_data"
    },
    {
     "data": {
      "text/plain": [
       "1    811563\n",
       "2     59338\n",
       "Name: DIFFCARE, dtype: int64"
      ]
     },
     "metadata": {},
     "output_type": "display_data"
    }
   ],
   "source": [
    "import matplotlib.pyplot as plt\n",
    "import seaborn as sns\n",
    "\n",
    "# Value counts for categorical variables\n",
    "categorical_cols = ['FOODSTMP', 'HCOVANY', 'EDUC', 'EMPSTAT', 'ABSENT', 'DIFFCARE']\n",
    "for col in categorical_cols:\n",
    "    display(df[col].value_counts())"
   ]
  },
  {
   "cell_type": "markdown",
   "id": "40cb6cb7",
   "metadata": {},
   "source": [
    "We have imbalanced data on the categories of the variables, which could be a problem when we run the regression later on. We will need to address this issue in the future."
   ]
  },
  {
   "cell_type": "code",
   "execution_count": 39,
   "id": "20d208de",
   "metadata": {},
   "outputs": [
    {
     "data": {
      "image/png": "[encoded data removed]",
      "text/plain": [
       "<Figure size 576x360 with 1 Axes>"
      ]
     },
     "metadata": {
      "needs_background": "light"
     },
     "output_type": "display_data"
    }
   ],
   "source": [
    "# Bar plot of employment status\n",
    "plt.figure(figsize=(8, 5))\n",
    "sns.countplot(x=df['EMPSTAT'])\n",
    "plt.title('Employment Status Distribution')\n",
    "plt.xlabel('Employment Status')\n",
    "plt.ylabel('Count')\n",
    "plt.show()"
   ]
  },
  {
   "cell_type": "markdown",
   "id": "214f4924",
   "metadata": {},
   "source": [
    "We have lots of data that lies in 3, which is 'not in labor force'. This could be due to many reasons such as retirement, disability, or being a student."
   ]
  },
  {
   "cell_type": "code",
   "execution_count": 40,
   "id": "dd9eac4e",
   "metadata": {},
   "outputs": [
    {
     "data": {
      "image/png": "[encoded data removed]",
      "text/plain": [
       "<Figure size 576x432 with 2 Axes>"
      ]
     },
     "metadata": {
      "needs_background": "light"
     },
     "output_type": "display_data"
    }
   ],
   "source": [
    "# Correlation heatmap\n",
    "plt.figure(figsize=(8, 6))\n",
    "sns.heatmap(df.corr(), annot=True, cmap='coolwarm', fmt=\".2f\")\n",
    "plt.title('Correlation Heatmap')\n",
    "plt.show()"
   ]
  },
  {
   "cell_type": "markdown",
   "id": "07702c36",
   "metadata": {},
   "source": [
    "We see that income is slightly more correlated with education, and the rest of the variables are not as correlated with income. We also see that absent from work is negatively correlated with employment status, which makes sense. Another thing is that food stamps are negatively correlated with income and education."
   ]
  },
  {
   "cell_type": "code",
   "execution_count": 41,
   "id": "fb0f570d",
   "metadata": {},
   "outputs": [
    {
     "data": {
      "image/png": "[encoded data removed]",
      "text/plain": [
       "<Figure size 720x360 with 1 Axes>"
      ]
     },
     "metadata": {
      "needs_background": "light"
     },
     "output_type": "display_data"
    }
   ],
   "source": [
    "# Distribution of total income\n",
    "plt.figure(figsize=(10, 5))\n",
    "sns.histplot(df['INCTOT'], bins=50, kde=True)\n",
    "plt.title('Distribution of Total Income')\n",
    "plt.xlabel('Total Income')\n",
    "plt.ylabel('Frequency')\n",
    "plt.show()"
   ]
  },
  {
   "cell_type": "markdown",
   "id": "d5cb594f",
   "metadata": {},
   "source": [
    "We see that our income distribution is right skewed and densed around a small inveral, so we made the following graph for better visualization."
   ]
  },
  {
   "cell_type": "code",
   "execution_count": 42,
   "id": "a4a77ab0",
   "metadata": {},
   "outputs": [
    {
     "name": "stderr",
     "output_type": "stream",
     "text": [
      "/Users/olingilster/opt/anaconda3/lib/python3.9/site-packages/pandas/core/arraylike.py:364: RuntimeWarning: invalid value encountered in log1p\n",
      "  result = getattr(ufunc, method)(*inputs, **kwargs)\n"
     ]
    },
    {
     "data": {
      "image/png": "[encoded data removed]",
      "text/plain": [
       "<Figure size 864x432 with 1 Axes>"
      ]
     },
     "metadata": {
      "needs_background": "light"
     },
     "output_type": "display_data"
    }
   ],
   "source": [
    "import numpy as np\n",
    "\n",
    "plt.figure(figsize=(12, 6))\n",
    "sns.histplot(np.log1p(df['INCTOT']), bins=50, color=\"royalblue\")\n",
    "\n",
    "plt.title(\"Log-Transformed Distribution of Total Income\", fontsize=16)\n",
    "plt.xlabel(\"Log(Total Income)\", fontsize=14)\n",
    "plt.ylabel(\"Frequency\", fontsize=14)\n",
    "\n",
    "plt.grid(axis=\"y\", linestyle=\"--\", alpha=0.7)\n",
    "\n",
    "plt.show()"
   ]
  },
  {
   "cell_type": "markdown",
   "id": "233c7304",
   "metadata": {},
   "source": [
    "<div style=\"\n",
    "    background-color: #f8f9fa; \n",
    "    color: black; \n",
    "    padding: 30px; \n",
    "    text-align: center; \n",
    "    border-radius: 10px; \n",
    "    box-shadow: 0px 4px 8px rgba(0, 0, 0, 0.1);\n",
    "\">\n",
    "    <h1 style=\"color: black; font-size: 2em; font-weight: bold; margin-bottom: 10px;\">\n",
    "        Regression\n",
    "    </h1>\n",
    "</div>"
   ]
  },
  {
   "cell_type": "markdown",
   "id": "56dd8446",
   "metadata": {},
   "source": [
    "## Regression Model  \n",
    "\n",
    "We will use an **Ordinary Least Squares (OLS) regression** because `INCTOT` is a continuous dependent variable. Because **OLS** is designed to model relationships where the dependent variable is continous and the data is (approx) normally distributed, it is a good fit. \n",
    "\n",
    "Our basic regression equation is as follows:  \n",
    "\n",
    "$$\n",
    "INCTOT = \\beta_0 + \\beta_1 \\text{FOODSTMP} + \\beta_2 \\text{HCOVANY} + \\beta_3 \\text{EDUC} + \\beta_4 \\text{EMPSTAT} + \\beta_5 \\text{ABSENT} + \\beta_6 \\text{DIFFCARE} + \\mu\n",
    "$$\n",
    "\n",
    "\n",
    "`FOODSTMP`  was included because receiving food stamps (**SNAP**) is a strong indicator of financial hardship, as eligibility is based on income thresholds in the US. By including this variable it helps capture the economic status of individuals and assess whether participation in government assistance food programs affect income. \n",
    "\n",
    "`HCOVANY`    was included beause health insurance coverage is often tied to employment quality and economic stability. People with insurance may have access to better healthcare, which may lead to improved productivity and higher lifetime earnings. Uninsured individuals may face greater financial instability due to medical costs.\n",
    "\n",
    "`EDUC`  was included because higher educational attainment is linked to better job opportunities and higher income. Poor health may limit a person's ability to reach a higher educational attainment from prelimiary research.\n",
    "\n",
    "`EMPSTAT` was included because employment status directly impacts an individual's ability to generate wealth, and poor health can be a major barrier to stable employment. Chronic illness, disability, or mental health struggles can make it difficult to secure or maintain a job, leading to lower income and fewer opportunities for earning it.\n",
    "\n",
    "`ABSENT`    was included becuase we had intution that people suffering from long term health issues likely are absent from work more often than people who are not suffering from health issues.\n",
    "\n",
    "`DIFFCARE`   was included because having a physical or mental condition that limits self-care can severely restrict an individual's ability to work, earn a stable income, and accumulate wealth. We believe that this variable will helps us understand the direct relationship between long-term health challenges and wealth inequality.\n"
   ]
  },
  {
   "cell_type": "markdown",
   "id": "b92e8043",
   "metadata": {},
   "source": [
    "| **Variable**  | **Expected Relationship with Income** | **Explanation**  |  \n",
    "|--------------|--------------------------------|-------------------------------------------------|  \n",
    "| **`FOODSTMP`**  | Negative  | Receiving food assistance indicates less disposible income and may be associated with lower earnings.  |  \n",
    "| **`HCOVANY`**  | Positive  | Health insurance is linked to stable, higher-paying jobs and better health outcomes that support productivity.  |  \n",
    "| **`EDUC`**  | Positive  | Higher education increases human capital, which may lead to better job opportunities and higher wages.  |  \n",
    "| **`EMPSTAT`**  | Positive  | Employment directly generates income.  |  \n",
    "| **`ABSENT`**  | Negative  | Frequent or prolonged absences from work may lead to lost wages and reduced job stability.  |  \n",
    "| **`DIFFCARE`**  | Negative  | Health conditions that limit self-care can reduce labor market participation and overall earning potential.  |  "
   ]
  },
  {
   "cell_type": "markdown",
   "id": "b9c35b73",
   "metadata": {},
   "source": [
    "**Variables that were not included but could be helpful**:\n",
    "\n",
    "Chronic Illness or Disability Severity – While we have `DIFFCARE`, a more detailed measure of specific chronic conditions (e.g., diabetes, heart disease, mental illness) or the degree of disability would better quantify how health limitations affect earnings.\n",
    "\n",
    "Number of Sick Days or Hospitalizations – The frequency of hospital visits or time off work due to illness would provide insight into how temporary health shocks disrupt income streams and job stability. However, a pure hospital visit variable may be misleading as people with higher income may visit the hosptial more because of better insurance.\n",
    "\n",
    "Access to Preventative Care – Individuals who receive regular checkups and preventative healthcare may experience better long-term health outcomes, allowing them to remain in the workforce longer and maintain higher earnings.\n"
   ]
  },
  {
   "cell_type": "code",
   "execution_count": 43,
   "id": "f04fc0b5",
   "metadata": {},
   "outputs": [],
   "source": [
    "import matplotlib.pyplot as plt\n",
    "import seaborn as sns\n",
    "import statsmodels.formula.api as smf\n",
    "from scipy.optimize import minimize"
   ]
  },
  {
   "cell_type": "markdown",
   "id": "07066e19",
   "metadata": {},
   "source": [
    "Some of the variables are categorical, `FOODSTMP`, `EDUC`, etc. I need to make some adjustments so that the model may interpret it correctly."
   ]
  },
  {
   "cell_type": "code",
   "execution_count": 45,
   "id": "fb4f2040",
   "metadata": {},
   "outputs": [
    {
     "name": "stdout",
     "output_type": "stream",
     "text": [
      "    YEAR  FOODSTMP  HCOVANY  EMPSTAT  ABSENT  INCTOT  DIFFCARE  CollegeEDU  \\\n",
      "4   2023         1        2        3       1    2500         1           0   \n",
      "5   2023         1        2        3       1     500         1           1   \n",
      "7   2023         1        2        3       1   15600         1           1   \n",
      "8   2023         1        2        3       1   10000         1           1   \n",
      "11  2023         1        2        2       1    2000         1           0   \n",
      "\n",
      "    HighSchoolEDU  \n",
      "4               1  \n",
      "5               0  \n",
      "7               0  \n",
      "8               0  \n",
      "11              1  \n",
      "The up to middle school column is dropped because it is implied through highschool EDU and college EDU being 0\n"
     ]
    }
   ],
   "source": [
    "# EDUC is a confusing categorical variable, so I will split it into 3 categories\n",
    "# Up to middle school, up to highschool, and up to college\n",
    "def categorize_education(educ_level):\n",
    "    if educ_level in [1, 2]:\n",
    "        return 'MiddleSchoolEDU'\n",
    "    elif educ_level in [3, 4, 5, 6]:\n",
    "        return 'HighSchoolEDU'\n",
    "    elif educ_level in [7, 8, 9, 10, 11]: \n",
    "        return 'CollegeEDU'\n",
    "    else: \n",
    "        return 'Missing'\n",
    "\n",
    "df['EDUC_Categorized'] = df['EDUC'].apply(categorize_education)\n",
    "# preform dummy encoding to the new variables\n",
    "df_dummies = pd.get_dummies(df['EDUC_Categorized'])\n",
    "df_dummies = df_dummies.drop(['MiddleSchoolEDU'], axis=1)\n",
    "df = df.drop(['EDUC', 'EDUC_Categorized'], axis=1)\n",
    "\n",
    "df = pd.concat([df, df_dummies], axis=1)\n",
    "print(df.head())\n",
    "print(\"The up to middle school column is dropped because it is implied through highschool EDU and college EDU being 0\")"
   ]
  },
  {
   "cell_type": "code",
   "execution_count": 46,
   "id": "b196435e",
   "metadata": {},
   "outputs": [
    {
     "data": {
      "text/html": [
       "<div>\n",
       "<style scoped>\n",
       "    .dataframe tbody tr th:only-of-type {\n",
       "        vertical-align: middle;\n",
       "    }\n",
       "\n",
       "    .dataframe tbody tr th {\n",
       "        vertical-align: top;\n",
       "    }\n",
       "\n",
       "    .dataframe thead th {\n",
       "        text-align: right;\n",
       "    }\n",
       "</style>\n",
       "<table border=\"1\" class=\"dataframe\">\n",
       "  <thead>\n",
       "    <tr style=\"text-align: right;\">\n",
       "      <th></th>\n",
       "      <th>YEAR</th>\n",
       "      <th>INCTOT</th>\n",
       "      <th>CollegeEDU</th>\n",
       "      <th>HighSchoolEDU</th>\n",
       "      <th>FOODSTMP</th>\n",
       "      <th>HCOVANY</th>\n",
       "      <th>EMPSTAT</th>\n",
       "      <th>ABSENT</th>\n",
       "      <th>DIFFCARE</th>\n",
       "    </tr>\n",
       "  </thead>\n",
       "  <tbody>\n",
       "    <tr>\n",
       "      <th>4</th>\n",
       "      <td>2023</td>\n",
       "      <td>2500</td>\n",
       "      <td>0</td>\n",
       "      <td>1</td>\n",
       "      <td>0</td>\n",
       "      <td>1</td>\n",
       "      <td>0.0</td>\n",
       "      <td>0</td>\n",
       "      <td>0</td>\n",
       "    </tr>\n",
       "    <tr>\n",
       "      <th>5</th>\n",
       "      <td>2023</td>\n",
       "      <td>500</td>\n",
       "      <td>1</td>\n",
       "      <td>0</td>\n",
       "      <td>0</td>\n",
       "      <td>1</td>\n",
       "      <td>0.0</td>\n",
       "      <td>0</td>\n",
       "      <td>0</td>\n",
       "    </tr>\n",
       "    <tr>\n",
       "      <th>7</th>\n",
       "      <td>2023</td>\n",
       "      <td>15600</td>\n",
       "      <td>1</td>\n",
       "      <td>0</td>\n",
       "      <td>0</td>\n",
       "      <td>1</td>\n",
       "      <td>0.0</td>\n",
       "      <td>0</td>\n",
       "      <td>0</td>\n",
       "    </tr>\n",
       "    <tr>\n",
       "      <th>8</th>\n",
       "      <td>2023</td>\n",
       "      <td>10000</td>\n",
       "      <td>1</td>\n",
       "      <td>0</td>\n",
       "      <td>0</td>\n",
       "      <td>1</td>\n",
       "      <td>0.0</td>\n",
       "      <td>0</td>\n",
       "      <td>0</td>\n",
       "    </tr>\n",
       "    <tr>\n",
       "      <th>11</th>\n",
       "      <td>2023</td>\n",
       "      <td>2000</td>\n",
       "      <td>0</td>\n",
       "      <td>1</td>\n",
       "      <td>0</td>\n",
       "      <td>1</td>\n",
       "      <td>0.0</td>\n",
       "      <td>0</td>\n",
       "      <td>0</td>\n",
       "    </tr>\n",
       "  </tbody>\n",
       "</table>\n",
       "</div>"
      ],
      "text/plain": [
       "    YEAR  INCTOT  CollegeEDU  HighSchoolEDU  FOODSTMP  HCOVANY  EMPSTAT  \\\n",
       "4   2023    2500           0              1         0        1      0.0   \n",
       "5   2023     500           1              0         0        1      0.0   \n",
       "7   2023   15600           1              0         0        1      0.0   \n",
       "8   2023   10000           1              0         0        1      0.0   \n",
       "11  2023    2000           0              1         0        1      0.0   \n",
       "\n",
       "    ABSENT  DIFFCARE  \n",
       "4        0         0  \n",
       "5        0         0  \n",
       "7        0         0  \n",
       "8        0         0  \n",
       "11       0         0  "
      ]
     },
     "execution_count": 46,
     "metadata": {},
     "output_type": "execute_result"
    }
   ],
   "source": [
    "# Now I need to convert the rest of the categorical variables into dummy variables\n",
    "\"\"\"\n",
    "Below is an implementation of getting dummies for the rest of the 5 variables that are left in the table\n",
    "\"\"\"\n",
    "\n",
    "# FOODSTMP\n",
    "df_dummies = pd.get_dummies(df['FOODSTMP'], prefix='FOODSTMP', drop_first=True)\n",
    "df = pd.concat([df, df_dummies], axis=1)\n",
    "\n",
    "# HCOVANY\n",
    "df_dummies = pd.get_dummies(df['HCOVANY'], prefix='HCOVANY', drop_first=True)\n",
    "df = pd.concat([df, df_dummies], axis=1)\n",
    "\n",
    "# EMPSTAT\n",
    "# note that since we only focus on employed people, here we only consider EMPSTAT = 1 and 0. 3 represents not in labor force.\n",
    "df['EMPSTAT_Employed'] = (df['EMPSTAT'] == 1).astype(float)\n",
    "\n",
    "# ABSENT\n",
    "df_dummies = pd.get_dummies(df['ABSENT'], prefix='ABSENT', drop_first=True)\n",
    "df = pd.concat([df, df_dummies], axis=1)\n",
    "\n",
    "# DIFFCARE\n",
    "df_dummies = pd.get_dummies(df['DIFFCARE'], prefix='DIFFCARE', drop_first=True)\n",
    "df = pd.concat([df, df_dummies], axis=1)\n",
    "\n",
    "df.drop(['FOODSTMP', 'HCOVANY', 'EMPSTAT', 'ABSENT', 'DIFFCARE'], axis=1, inplace=True)\n",
    "\n",
    "df.rename(columns={\n",
    "    'FOODSTMP_2': 'FOODSTMP',\n",
    "    'HCOVANY_2': 'HCOVANY',\n",
    "    'EMPSTAT_Employed': 'EMPSTAT',\n",
    "    'ABSENT_3': 'ABSENT',\n",
    "    'DIFFCARE_2': 'DIFFCARE'\n",
    "}, inplace=True)\n",
    "\n",
    "for col in df.columns:\n",
    "    if df[col].dtype == bool:\n",
    "        df[col] = df[col].astype(float)\n",
    "\n",
    "df.head()"
   ]
  },
  {
   "cell_type": "markdown",
   "id": "1316de72",
   "metadata": {},
   "source": [
    "After turning the categorical variables into one-hot variables, the model now looks as follows:\n",
    "$$\n",
    "\\text{INCTOT} = \\beta_0 + \\beta_1 (\\text{High School EDU}) + $$ \n",
    "$$ \n",
    "\\beta_2 (\\text{College EDU}) + \\beta_3 (\\text{FOODSTMP}) + \\beta_4 (\\text{HCOVANY}) + \\beta_5 (\\text{EMPSTAT}) + \\beta_6 (\\text{ABSENT}) + \\beta_7 (\\text{DIFFCARE}) + \\mu\n",
    "$$\n",
    "\n",
    "**High School EDU** is a dummy variable for individuals with education up to high school.\n",
    "\n",
    "**College EDU** is a dummy variable for individuals with education up to college.\n",
    "\n",
    "**FOODSTMP** is a dummy variable indicating whether the individual received food stamps (1 if yes, 0 if no).\n",
    "\n",
    "**HCOVANY** is a dummy variable indicating whether the individual has health insurance (1 if yes, 0 if no).\n",
    "\n",
    "**EMPSTAT** is a dummy variable for employment status (1 if employed, 0 if not).\n",
    "\n",
    "**ABSENT** is a dummy variable indicating if the individual was temporarily absent from work (1 if absent, 0 if not).\n",
    "\n",
    "**DIFFCARE** is a dummy variable indicating if the individual has difficulty caring for themselves due to a health condition (1 if yes, 0 if no)."
   ]
  },
  {
   "cell_type": "code",
   "execution_count": 47,
   "id": "cfad7037",
   "metadata": {},
   "outputs": [
    {
     "name": "stdout",
     "output_type": "stream",
     "text": [
      "                            OLS Regression Results                            \n",
      "==============================================================================\n",
      "Dep. Variable:                 INCTOT   R-squared:                       0.081\n",
      "Model:                            OLS   Adj. R-squared:                  0.081\n",
      "Method:                 Least Squares   F-statistic:                 1.100e+04\n",
      "Date:                Tue, 18 Mar 2025   Prob (F-statistic):               0.00\n",
      "Time:                        19:51:09   Log-Likelihood:            -1.0768e+07\n",
      "No. Observations:              870901   AIC:                         2.154e+07\n",
      "Df Residuals:                  870893   BIC:                         2.154e+07\n",
      "Df Model:                           7                                         \n",
      "Covariance Type:            nonrobust                                         \n",
      "=================================================================================\n",
      "                    coef    std err          t      P>|t|      [0.025      0.975]\n",
      "---------------------------------------------------------------------------------\n",
      "Intercept      1.218e+04    503.731     24.176      0.000    1.12e+04    1.32e+04\n",
      "HighSchoolEDU  3133.5968    404.163      7.753      0.000    2341.451    3925.742\n",
      "CollegeEDU     2.634e+04    405.773     64.908      0.000    2.55e+04    2.71e+04\n",
      "FOODSTMP      -1.897e+04    182.762   -103.815      0.000   -1.93e+04   -1.86e+04\n",
      "HCOVANY        1.366e+04    328.245     41.615      0.000     1.3e+04    1.43e+04\n",
      "EMPSTAT        2.362e+04    192.411    122.748      0.000    2.32e+04     2.4e+04\n",
      "ABSENT        -1.032e+04    366.756    -28.134      0.000    -1.1e+04   -9599.592\n",
      "DIFFCARE      -4877.0105    244.168    -19.974      0.000   -5355.572   -4398.449\n",
      "==============================================================================\n",
      "Omnibus:                   944856.423   Durbin-Watson:                   1.921\n",
      "Prob(Omnibus):                  0.000   Jarque-Bera (JB):         92675336.875\n",
      "Skew:                           5.512   Prob(JB):                         0.00\n",
      "Kurtosis:                      52.319   Cond. No.                         18.6\n",
      "==============================================================================\n",
      "\n",
      "Notes:\n",
      "[1] Standard Errors assume that the covariance matrix of the errors is correctly specified.\n",
      "b0 (Intercept): 12178.0874\n",
      "b1 (High School EDU): 3133.5968\n",
      "b2 (College EDU): 26338.0593\n",
      "b3 (FOODSTMP): -18973.3722\n",
      "b4 (HCOVANY): 13659.9459\n",
      "b5 (EMPSTAT): 23618.0643\n",
      "b6 (ABSENT): -10318.4221\n",
      "b7 (DIFFCARE): -4877.0105\n"
     ]
    }
   ],
   "source": [
    "# Now I will preform the OLS regression:\n",
    "\n",
    "results = smf.ols('INCTOT ~ HighSchoolEDU + CollegeEDU + FOODSTMP + HCOVANY + EMPSTAT + ABSENT + DIFFCARE', data=df).fit()\n",
    "\n",
    "print(smf.ols('INCTOT ~ HighSchoolEDU + CollegeEDU + FOODSTMP + HCOVANY + EMPSTAT + ABSENT + DIFFCARE', data=df).fit().summary())\n",
    "print(f\"b0 (Intercept): {results.params['Intercept']:.4f}\")\n",
    "print(f\"b1 (High School EDU): {results.params['HighSchoolEDU']:.4f}\")\n",
    "print(f\"b2 (College EDU): {results.params['CollegeEDU']:.4f}\")\n",
    "print(f\"b3 (FOODSTMP): {results.params['FOODSTMP']:.4f}\")\n",
    "print(f\"b4 (HCOVANY): {results.params['HCOVANY']:.4f}\")\n",
    "print(f\"b5 (EMPSTAT): {results.params['EMPSTAT']:.4f}\")\n",
    "print(f\"b6 (ABSENT): {results.params['ABSENT']:.4f}\")\n",
    "print(f\"b7 (DIFFCARE): {results.params['DIFFCARE']:.4f}\")\n"
   ]
  },
  {
   "cell_type": "markdown",
   "id": "08390519",
   "metadata": {},
   "source": [
    "<div style=\"\n",
    "    background-color: #f8f9fa; \n",
    "    color: black; \n",
    "    padding: 30px; \n",
    "    text-align: center; \n",
    "    border-radius: 10px; \n",
    "    box-shadow: 0px 4px 8px rgba(0, 0, 0, 0.1);\n",
    "\">\n",
    "    <h1 style=\"color: black; font-size: 2em; font-weight: bold; margin-bottom: 10px;\">\n",
    "        Results\n",
    "    </h1>\n",
    "</div>"
   ]
  }
 ],
 "metadata": {
  "kernelspec": {
   "display_name": "base",
   "language": "python",
   "name": "python3"
  },
  "language_info": {
   "codemirror_mode": {
    "name": "ipython",
    "version": 3
   },
   "file_extension": ".py",
   "mimetype": "text/x-python",
   "name": "python",
   "nbconvert_exporter": "python",
   "pygments_lexer": "ipython3",
   "version": "3.9.7"
  }
 },
 "nbformat": 4,
 "nbformat_minor": 5
}
